{
 "cells": [
  {
   "cell_type": "markdown",
   "metadata": {},
   "source": [
    "<img style=\"float: left; margin: 30px 15px 15px 15px;\" src=\"https://pngimage.net/wp-content/uploads/2018/06/logo-iteso-png-5.png\" width=\"300\" height=\"500\" /> \n",
    "    \n",
    "    \n",
    "### <font color='navy'> Simulación de procesos financieros. \n",
    "\n",
    "**Nombres:** Ana Cristina Vazquez Vargas  \n",
    "\n",
    "**Fecha:** 08 de Marzo del 2021\n",
    "\n",
    "**Expediente** : if721215\n",
    "**Profesor:** Oscar David Jaramillo Zuluaga.\n",
    "\n",
    "### LINK DE GITHUB: https://github.com/ACristinaVV/TAREA6_ACVAZQUEZ\n",
    "# Tarea 6: Clase 9. Distribución de Probabilidad"
   ]
  },
  {
   "cell_type": "code",
   "execution_count": 1,
   "metadata": {},
   "outputs": [],
   "source": [
    "from scipy import optimize\n",
    "from scipy.stats import beta\n",
    "import matplotlib.pyplot as plt\n",
    "import numpy as np\n",
    "import pandas as pd\n",
    "%matplotlib inline"
   ]
  },
  {
   "cell_type": "markdown",
   "metadata": {},
   "source": [
    "Partiendo que se desea generar variables aleatorias para la siguiente función de densidad\n",
    "$$f(x)=30(x^2-2x^3+x^4)$$\n",
    "Responda los siguientes literales:\n",
    "1. Usar como función que mayora a $f(x)$ a $t(x)=a \\sin(\\pi x)$ donde a es el máximo de la función $f(x)$ y graficarlas en una misma gráfica, para validar que en realidad si cumple la condición $t(x)\\geq f(x)$.\n"
   ]
  },
  {
   "cell_type": "code",
   "execution_count": 2,
   "metadata": {},
   "outputs": [
    {
     "data": {
      "text/plain": [
       "<matplotlib.legend.Legend at 0x4c8bbd0>"
      ]
     },
     "execution_count": 2,
     "metadata": {},
     "output_type": "execute_result"
    },
    {
     "data": {
      "image/png": "[encoded data removed]",
      "text/plain": [
       "<Figure size 432x288 with 1 Axes>"
      ]
     },
     "metadata": {
      "needs_background": "light"
     },
     "output_type": "display_data"
    }
   ],
   "source": [
    "f = lambda x: 30*(x**2-2*x**3+x**4) \n",
    "\n",
    "max_f = f(optimize.fmin(lambda x:-f(x), 0, disp=False))\n",
    "\n",
    "t = lambda x: max_f * np.sin(np.pi*x) * np.ones([len(x)])\n",
    "\n",
    "x = np.arange(0, 1, 0.01)\n",
    "#print('El máximo de f es:',max_f)\n",
    "\n",
    "# Gráficas de las funciones\n",
    "plt.plot(x,f(x),label='f(x)')\n",
    "plt.plot(x,t(x),label='t(x)')\n",
    "plt.legend()"
   ]
  },
  {
   "cell_type": "markdown",
   "metadata": {},
   "source": [
    "2. Encontrar la función de densidad $g(x)$ según lo visto en clase. Reportar todos los cálculos realizados para encontrar dicha función usando Markdown (Latex).\n"
   ]
  },
  {
   "cell_type": "code",
   "execution_count": null,
   "metadata": {},
   "outputs": [],
   "source": []
  },
  {
   "cell_type": "markdown",
   "metadata": {},
   "source": [
    "3. Usar la función encontrada en el punto 2 y utilizar el método de la transformada inversa visto en la clase 9, para generar variables aleatorias que sigan la distribución $g(x)$. **Nota:** Recuerde que el método de la transformada inversa funciona con la distribución de probabilidad acumulada y no con su densidad. Nuevamente similar al punto anterior reportar todos los cálculos usando Markdown (Latex)."
   ]
  },
  {
   "cell_type": "markdown",
   "metadata": {},
   "source": [
    "4. Según el punto 3, generar 10000 puntos aleatorios que sigan la distribución $g(x)$ y comparar con su histograma para validar que los puntos generados siguen la distribución deseada. El resultado debe ser como sigue:\n"
   ]
  },
  {
   "cell_type": "markdown",
   "metadata": {},
   "source": [
    "5. Genere 500 puntos aleatorios usando el método de aceptación y rechazo y las funciones $f(x)$ y $t(x)$ para validar que todos los cálculos anteriores están correctamente realizados. El resultado debe de ser como sigue:"
   ]
  },
  {
   "cell_type": "code",
   "execution_count": 3,
   "metadata": {},
   "outputs": [],
   "source": [
    "# Función de aceptación y rechazo usando compresión de listas\n",
    "def Acep_rechazo(R2:'Variables distruidas U~U(0,1)',\n",
    "                 R1:'Variables distribuidas como g(x)',\n",
    "                 f:'función objetivo a generar',\n",
    "                 t:'función que mayora a f'):\n",
    "#     R1 = np.random.rand(N)\n",
    "    f_x = f(R1)\n",
    "    t_x = t(R1)\n",
    "    condition = R2*t_x <=f_x\n",
    "    [plt.plot(R1[i],R2[i]*t_x[i],'ob') if condition[i] else plt.plot(R1[i],R2[i]*t_x[i],'o') \\\n",
    "          for i in range(len(R1))] \n",
    "     #plt.show()\n",
    "    \n",
    "    x = [R1[i] for i in range(len(R1)) if condition[i]]\n",
    "    \n",
    "    return x"
   ]
  },
  {
   "cell_type": "code",
   "execution_count": 4,
   "metadata": {},
   "outputs": [],
   "source": [
    "# Validación del método\n",
    "N = 5000 # número de puntos a simular"
   ]
  },
  {
   "cell_type": "markdown",
   "metadata": {},
   "source": [
    "6. Comparar el porcentaje de puntos de aceptación cuando se usa $t(x)$ constante y $t(x)$ un pulso senoidal. Concluir"
   ]
  },
  {
   "cell_type": "markdown",
   "metadata": {},
   "source": [
    "7. Genere una variable aleatoria $X$ a partir de la siguiente PDF\n",
    "$$f(x)=20x(1-x)^3$$ \n",
    "usando el método de aceptación y rechazo"
   ]
  },
  {
   "cell_type": "code",
   "execution_count": 5,
   "metadata": {},
   "outputs": [],
   "source": [
    "def Acep_rechazo(R2:'Variables distruidas U~U(0,1)',\n",
    "                 R1:'Variables distribuidas como g(x)',\n",
    "                 f:'función objetivo a generar',\n",
    "                 t:'función que mayora a f'):\n",
    "#     R1 = np.random.rand(N)\n",
    "    f_x = f(R1)\n",
    "    t_x = t(R1)\n",
    "    condition = R2*t_x <=f_x\n",
    "#     [plt.plot(R1[i],R2[i]*t_x[i],'ob') if condition[i] else plt.plot(R1[i],R2[i]*t_x[i],'o') \\\n",
    "#          for i in range(len(R1))] \n",
    "#     plt.show()\n",
    "    \n",
    "    x = [R1[i] for i in range(len(R1)) if condition[i]]\n",
    "    \n",
    "    return x"
   ]
  },
  {
   "cell_type": "code",
   "execution_count": 6,
   "metadata": {},
   "outputs": [
    {
     "name": "stdout",
     "output_type": "stream",
     "text": [
      "El máximo de f es: [2.109375]\n"
     ]
    },
    {
     "data": {
      "image/png": "[encoded data removed]",
      "text/plain": [
       "<Figure size 432x288 with 1 Axes>"
      ]
     },
     "metadata": {
      "needs_background": "light"
     },
     "output_type": "display_data"
    }
   ],
   "source": [
    "N = 100\n",
    "\n",
    "# Función objetivo \n",
    "f = lambda x: 20*x*(1-x)**3\n",
    "# Máximo de la función f\n",
    "max_f = f(optimize.fmin(lambda x:-f(x), 0, disp=False))\n",
    "# Función t -> Función constante\n",
    "t = lambda x: max_f * np.ones([len(x)])\n",
    "\n",
    "# Rango donde se graficará las funciones\n",
    "x = np.arange(0, 1, 0.01)\n",
    "print('El máximo de f es:',max_f)\n",
    "\n",
    "# Gráficas de las funciones\n",
    "plt.plot(x,f(x),label='f(x)')\n",
    "plt.plot(x,t(x),label='t(x)')\n",
    "plt.legend()\n",
    "\n",
    "# Validación del método\n",
    "N = 20000 # número de puntos a simular\n",
    "# Como estoy tomando t(x) constante solo es necesario generar valores aleatorios U~(0,1)\n",
    "R2 = np.random.rand(N)\n",
    "R1 = np.random.uniform(0, 1, size=N)\n",
    "\n",
    "x_r =  Acep_rechazo(R2, R1, f, t)\n",
    "\n",
    "y,x_n, _ = plt.hist(x_r, bins=50, density=True)"
   ]
  }
 ],
 "metadata": {
  "kernelspec": {
   "display_name": "Python 3",
   "language": "python",
   "name": "python3"
  },
  "language_info": {
   "codemirror_mode": {
    "name": "ipython",
    "version": 3
   },
   "file_extension": ".py",
   "mimetype": "text/x-python",
   "name": "python",
   "nbconvert_exporter": "python",
   "pygments_lexer": "ipython3",
   "version": "3.7.2"
  }
 },
 "nbformat": 4,
 "nbformat_minor": 4
}
